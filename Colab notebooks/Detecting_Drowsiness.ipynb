{
  "nbformat": 4,
  "nbformat_minor": 0,
  "metadata": {
    "colab": {
      "provenance": []
    },
    "kernelspec": {
      "name": "python3",
      "display_name": "Python 3"
    },
    "language_info": {
      "name": "python"
    }
  },
  "cells": [
    {
      "cell_type": "markdown",
      "source": [
        "# Importing Libraries"
      ],
      "metadata": {
        "id": "4JlOTGTKouCf"
      }
    },
    {
      "cell_type": "code",
      "execution_count": 31,
      "metadata": {
        "id": "BTOtQhJ7l17a"
      },
      "outputs": [],
      "source": [
        "import cv2\n",
        "import tensorflow as tf\n",
        "from keras.models import load_model\n",
        "import numpy as np\n",
        "from pygame import mixer\n",
        "\n",
        "from google.colab.patches import cv2_imshow\n",
        "from IPython.display import clear_output"
      ]
    },
    {
      "cell_type": "code",
      "source": [
        "face_cascade = cv2.CascadeClassifier(cv2.data.haarcascades + 'haarcascade_frontalface_default.xml')\n",
        "eye_cascade = cv2.CascadeClassifier(cv2.data.haarcascades + 'haarcascade_eye.xml')\n",
        "model = load_model('/content/drive/MyDrive/AI Project/models/Inception_model.h5')\n"
      ],
      "metadata": {
        "id": "ZoXDQU1jpesE"
      },
      "execution_count": 3,
      "outputs": []
    },
    {
      "cell_type": "code",
      "source": [
        "video = '/content/drive/MyDrive/AI Project/Test Videos/video1.mp4'\n"
      ],
      "metadata": {
        "id": "Rv40-jTZ3DbT"
      },
      "execution_count": null,
      "outputs": []
    },
    {
      "cell_type": "code",
      "source": [
        "mixer.init()\n",
        "sound = mixer.sound(r'C:\\Users\\Justice Ntoi\\PycharmProjects\\AI-Drowsiness-Detection-Model\\alarm\\mixkit-alarm-990.wav')\n",
        "\n",
        "cap = cv2.VideoCapture(video)\n",
        "\n",
        "counter = 0\n",
        "\n",
        "while True:\n",
        "    ret, frame = cap.read()\n",
        "    height, width = frame.shape[0:2]\n",
        "    gray = cv2.cvtColor(frame, cv2.COLOR_BGR2GRAY)\n",
        "    faces = face_cascade.detectMultiScale(gray, scaleFactor = 1.2, minNeighbors=3)\n",
        "    eyes = eye_cascade.detectMultiScale(gray, scaleFactor = 1.1, minNeighbors=1)\n",
        "\n",
        "    cv2.rectangle(frame, (0,height-50), (200,height), (0, 0, 0), thickness=cv2.FILLED)\n",
        "\n",
        "    for (x, y, w, h) in faces:\n",
        "        cv2.rectangle(frame, pt1=(x, y), pt2=(x+w, y+h), color=(0, 255, 0), thickness=2)\n",
        "\n",
        "    for (ex, ey, ew, eh) in eyes:\n",
        "        cv2.rectangle(frame, pt1=(ex, ey), pt2=(ex+ew, ey+eh), color=(0, 255, 0), thickness=2)\n",
        "        # Preprocessing\n",
        "        eye = frame[ey: ey+eh, ex: ex+ew]\n",
        "        eye = cv2.resize(eye)\n",
        "        eye = eye/255\n",
        "        eye = eye.reshape(80,80,3)\n",
        "        eye = np.expand_dims(eye, axis=0)\n",
        "\n",
        "        # Prediction\n",
        "        prediction = model.predict(eye)\n",
        "\n",
        "        # Open Eyes\n",
        "        if prediction[0][0]>0.90:\n",
        "            cv2.putText(frame, 'Open', (10,height-20), fontFace=cv2.FONT_HERSHEY_SIMPLEX,\n",
        "                        fontScale=1, color=(255,255,255), thickness=2, lineType=cv2.LINE_4)\n",
        "\n",
        "        # Closed Eyes\n",
        "        elif prediction[0][1]>0.30:\n",
        "            cv2.putText(frame, 'Closed', (10,height-20), fontFace=cv2.FONT_HERSHEY_SIMPLEX,\n",
        "                        fontScale=1, color=(255,255,255), thickness=2, lineType=cv2.LINE_4)\n",
        "\n",
        "            counter = counter + 1\n",
        "            if counter>10:\n",
        "                try:\n",
        "                    sound.play()\n",
        "                except:\n",
        "                    pass\n",
        "                counter = 0\n",
        "    # _________________________________________________________________________________________\n",
        "\n",
        "    clear_output(wait=True)\n",
        "    cv2_imshow(frame)\n",
        "\n",
        "    # __________________________________________________________________________________________\n",
        "\n",
        "    # cv2.imshow('frame', frame)\n",
        "    if cv2.waitKey(2) & 0xFF==ord('q'):\n",
        "        break\n",
        "\n",
        "cap.release()\n",
        "cv2.destroyAllWindows()"
      ],
      "metadata": {
        "id": "sgHq1p4grnDu"
      },
      "execution_count": null,
      "outputs": []
    }
  ]
}