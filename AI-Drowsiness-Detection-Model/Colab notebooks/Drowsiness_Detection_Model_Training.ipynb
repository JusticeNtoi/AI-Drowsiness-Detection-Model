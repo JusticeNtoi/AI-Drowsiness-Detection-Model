{
  "cells": [
    {
      "cell_type": "markdown",
      "metadata": {
        "id": "XCNFCTJfiWxa"
      },
      "source": [
        "**Importing Libraries**"
      ]
    },
    {
      "cell_type": "code",
      "execution_count": null,
      "metadata": {
        "id": "vlkTbKAnkZje"
      },
      "outputs": [],
      "source": [
        "import tensorflow as tf\n",
        "from keras.layers import Dropout,Input,Flatten,Dense,MaxPooling2D\n",
        "from keras.preprocessing.image import ImageDataGenerator # Data Augumentation:  increasing the training set\n",
        "                                                # by creating modified copies of a dataset using existing data.\n",
        "from keras.models import Model\n",
        "# Models\n",
        "from keras.applications import InceptionV3\n",
        "from keras.applications import MobileNetV2\n",
        "from keras.applications import Xception"
      ]
    },
    {
      "cell_type": "markdown",
      "metadata": {
        "id": "KEJySAsNigy6"
      },
      "source": [
        "# **Data preparation**"
      ]
    },
    {
      "cell_type": "code",
      "execution_count": null,
      "metadata": {
        "colab": {
          "base_uri": "https://localhost:8080/"
        },
        "id": "rVz1OW1Jvig_",
        "outputId": "e7273177-58e8-4d81-9f05-8f924e1c93a7"
      },
      "outputs": [
        {
          "output_type": "stream",
          "name": "stdout",
          "text": [
            "Found 20784 images belonging to 2 classes.\n",
            "Found 5196 images belonging to 2 classes.\n"
          ]
        }
      ],
      "source": [
        "batchsize = 8\n",
        "train_datagen = ImageDataGenerator(rescale=1./255,rotation_range=0.2,shear_range=0.2,zoom_range=0.2,\n",
        "                                   width_shift_range=0.2,height_shift_range=0.2, validation_split=0.2)\n",
        "\n",
        "train_data = train_datagen.flow_from_directory(r'/content/drive/MyDrive/AI Project/Eyes_Data/train',\n",
        "                                               target_size=(80,80), batch_size=batchsize, class_mode='categorical',\n",
        "                                               subset='training')\n",
        "\n",
        "validation_data = train_datagen.flow_from_directory(r'/content/drive/MyDrive/AI Project/Eyes_Data/train',\n",
        "                                               target_size=(80,80), batch_size=batchsize, class_mode='categorical',\n",
        "                                               subset='validation')\n"
      ]
    },
    {
      "cell_type": "code",
      "execution_count": null,
      "metadata": {
        "colab": {
          "base_uri": "https://localhost:8080/"
        },
        "id": "iQSUHxufw_5O",
        "outputId": "2ee8d838-cbb7-4148-a97f-7bb8d6bedc24"
      },
      "outputs": [
        {
          "output_type": "stream",
          "name": "stdout",
          "text": [
            "Found 6544 images belonging to 2 classes.\n"
          ]
        }
      ],
      "source": [
        "test_datagen = ImageDataGenerator(rescale=1./255)\n",
        "\n",
        "test_data = test_datagen.flow_from_directory(r'/content/drive/MyDrive/AI Project/Eyes_Data/test',\n",
        "                                               target_size=(80,80), batch_size=batchsize, class_mode='categorical')\n"
      ]
    },
    {
      "cell_type": "markdown",
      "source": [
        "# **Data Preparation 2**"
      ],
      "metadata": {
        "id": "4n3eh2W3KFRQ"
      }
    },
    {
      "cell_type": "code",
      "source": [
        "batchsize = 8\n",
        "train_datagen = ImageDataGenerator(rescale=1./255,rotation_range=0.2,shear_range=0.2,zoom_range=0.2,\n",
        "                                   width_shift_range=0.2,height_shift_range=0.2, validation_split=0.2)\n",
        "\n",
        "train_data = train_datagen.flow_from_directory(r'/content/drive/MyDrive/AI Project/Eyes_Data/train',\n",
        "                                               target_size=(80,80), batch_size=batchsize, class_mode='binary',\n",
        "                                               subset='training')\n",
        "\n",
        "validation_data = train_datagen.flow_from_directory(r'/content/drive/MyDrive/AI Project/Eyes_Data/train',\n",
        "                                               target_size=(80,80), batch_size=batchsize, class_mode='binary',\n",
        "                                               subset='validation')"
      ],
      "metadata": {
        "colab": {
          "base_uri": "https://localhost:8080/"
        },
        "id": "banslNj6LV3d",
        "outputId": "0b0d8f95-9f0d-4b32-e2b0-d6dbfa3e8c2c"
      },
      "execution_count": null,
      "outputs": [
        {
          "output_type": "stream",
          "name": "stdout",
          "text": [
            "Found 20784 images belonging to 2 classes.\n",
            "Found 5196 images belonging to 2 classes.\n"
          ]
        }
      ]
    },
    {
      "cell_type": "code",
      "source": [
        "test_datagen = ImageDataGenerator(rescale=1./255)\n",
        "\n",
        "test_data = test_datagen.flow_from_directory(r'/content/drive/MyDrive/AI Project/Eyes_Data/test',\n",
        "                                               target_size=(80,80), batch_size=batchsize, class_mode='binary')"
      ],
      "metadata": {
        "colab": {
          "base_uri": "https://localhost:8080/"
        },
        "id": "VSEo9LCyLtU-",
        "outputId": "90dc8b9f-14bf-4eb6-a955-0389ebad001b"
      },
      "execution_count": null,
      "outputs": [
        {
          "output_type": "stream",
          "name": "stdout",
          "text": [
            "Found 6544 images belonging to 2 classes.\n"
          ]
        }
      ]
    },
    {
      "cell_type": "markdown",
      "source": [
        "# **Deep learning InceptionV3 2**"
      ],
      "metadata": {
        "id": "wzjfj6xxQu7l"
      }
    },
    {
      "cell_type": "code",
      "source": [
        "bmodel = InceptionV3(include_top=False, weights='imagenet', input_tensor=Input(shape=(80,80,3)))\n",
        "hmodel = bmodel.output\n",
        "hmodel = Flatten()(hmodel)\n",
        "hmodel = Dense(64, activation='relu')(hmodel)\n",
        "hmodel = Dropout(0.5)(hmodel)\n",
        "hmodel = Dense(1, activation='sigmoid')(hmodel)\n",
        "\n",
        "model = Model(inputs=bmodel.input, outputs=hmodel)\n",
        "for layer in bmodel.layers:\n",
        "    layer.trainable = False\n"
      ],
      "metadata": {
        "id": "6jJeaJojRFQt"
      },
      "execution_count": null,
      "outputs": []
    },
    {
      "cell_type": "code",
      "source": [
        "from keras.callbacks import ModelCheckpoint, EarlyStopping, ReduceLROnPlateau"
      ],
      "metadata": {
        "id": "jI6OB189SH1k"
      },
      "execution_count": null,
      "outputs": []
    },
    {
      "cell_type": "code",
      "source": [
        "checkpoint = ModelCheckpoint(r'/content/drive/MyDrive/AI Project/models/InceptionV3_2_model.h5',\n",
        "                             monitor='val_loss', save_best_only=True, verbose=3)\n",
        "\n",
        "earlystop = EarlyStopping(monitor='val_loss', patience=7, verbose=3, restore_best_weights=True)\n",
        "\n",
        "learning_rate = ReduceLROnPlateau(monitor='val_loss', patience=3, verbose=3)\n",
        "\n",
        "callbacks =  [checkpoint, earlystop, learning_rate]\n"
      ],
      "metadata": {
        "id": "YDDXMN78PMPF"
      },
      "execution_count": null,
      "outputs": []
    },
    {
      "cell_type": "code",
      "source": [
        "model.compile(optimizer='Adam', loss='binary_crossentropy', metrics=['accuracy'])\n",
        "\n",
        "model.fit(train_data, steps_per_epoch=train_data.samples//batchsize,\n",
        "                    validation_data=validation_data, validation_steps=validation_data.samples//batchsize,\n",
        "                    callbacks=callbacks, epochs=14)\n",
        "\n",
        "\n"
      ],
      "metadata": {
        "colab": {
          "base_uri": "https://localhost:8080/"
        },
        "id": "Iu34uN8cSjaZ",
        "outputId": "80c3eec2-97de-46ab-d02e-1b204fa26a64"
      },
      "execution_count": null,
      "outputs": [
        {
          "output_type": "stream",
          "name": "stdout",
          "text": [
            "Epoch 1/14\n",
            "2598/2598 [==============================] - ETA: 0s - loss: 0.1298 - accuracy: 0.9541\n",
            "Epoch 1: val_loss improved from inf to 0.73570, saving model to /content/drive/MyDrive/AI Project/models/InceptionV3_2_model.h5\n"
          ]
        },
        {
          "output_type": "stream",
          "name": "stderr",
          "text": [
            "/usr/local/lib/python3.10/dist-packages/keras/src/engine/training.py:3000: UserWarning: You are saving your model as an HDF5 file via `model.save()`. This file format is considered legacy. We recommend using instead the native Keras format, e.g. `model.save('my_model.keras')`.\n",
            "  saving_api.save_model(\n"
          ]
        },
        {
          "output_type": "stream",
          "name": "stdout",
          "text": [
            "\b\b\b\b\b\b\b\b\b\b\b\b\b\b\b\b\b\b\b\b\b\b\b\b\b\b\b\b\b\b\b\b\b\b\b\b\b\b\b\b\b\b\b\b\b\b\b\b\b\b\b\b\b\b\b\b\b\b\b\b\b\b\b\b\b\b\b\b\b\b\b\b\b\b\b\b\b\b\b\b\b\b\b\b\b\b\r2598/2598 [==============================] - 7361s 3s/step - loss: 0.1298 - accuracy: 0.9541 - val_loss: 0.7357 - val_accuracy: 0.8030 - lr: 0.0010\n",
            "Epoch 2/14\n",
            "2598/2598 [==============================] - ETA: 0s - loss: 0.0965 - accuracy: 0.9657\n",
            "Epoch 2: val_loss did not improve from 0.73570\n",
            "2598/2598 [==============================] - 494s 190ms/step - loss: 0.0965 - accuracy: 0.9657 - val_loss: 0.7886 - val_accuracy: 0.8153 - lr: 0.0010\n",
            "Epoch 3/14\n",
            "2598/2598 [==============================] - ETA: 0s - loss: 0.0863 - accuracy: 0.9687\n",
            "Epoch 3: val_loss did not improve from 0.73570\n",
            "2598/2598 [==============================] - 492s 189ms/step - loss: 0.0863 - accuracy: 0.9687 - val_loss: 0.8668 - val_accuracy: 0.8238 - lr: 0.0010\n",
            "Epoch 4/14\n",
            "2598/2598 [==============================] - ETA: 0s - loss: 0.0829 - accuracy: 0.9709\n",
            "Epoch 4: val_loss did not improve from 0.73570\n",
            "\n",
            "Epoch 4: ReduceLROnPlateau reducing learning rate to 0.00010000000474974513.\n",
            "2598/2598 [==============================] - 434s 167ms/step - loss: 0.0829 - accuracy: 0.9709 - val_loss: 0.9049 - val_accuracy: 0.8224 - lr: 0.0010\n",
            "Epoch 5/14\n",
            "2598/2598 [==============================] - ETA: 0s - loss: 0.0740 - accuracy: 0.9732\n",
            "Epoch 5: val_loss did not improve from 0.73570\n",
            "2598/2598 [==============================] - 429s 165ms/step - loss: 0.0740 - accuracy: 0.9732 - val_loss: 0.7569 - val_accuracy: 0.8294 - lr: 1.0000e-04\n",
            "Epoch 6/14\n",
            "2598/2598 [==============================] - ETA: 0s - loss: 0.0657 - accuracy: 0.9767\n",
            "Epoch 6: val_loss did not improve from 0.73570\n",
            "2598/2598 [==============================] - 430s 165ms/step - loss: 0.0657 - accuracy: 0.9767 - val_loss: 0.8333 - val_accuracy: 0.8292 - lr: 1.0000e-04\n",
            "Epoch 7/14\n",
            "2598/2598 [==============================] - ETA: 0s - loss: 0.0670 - accuracy: 0.9757\n",
            "Epoch 7: val_loss did not improve from 0.73570\n",
            "\n",
            "Epoch 7: ReduceLROnPlateau reducing learning rate to 1.0000000474974514e-05.\n",
            "2598/2598 [==============================] - 428s 165ms/step - loss: 0.0670 - accuracy: 0.9757 - val_loss: 0.9156 - val_accuracy: 0.8209 - lr: 1.0000e-04\n",
            "Epoch 8/14\n",
            "2598/2598 [==============================] - ETA: 0s - loss: 0.0659 - accuracy: 0.9769\n",
            "Epoch 8: val_loss did not improve from 0.73570\n",
            "Restoring model weights from the end of the best epoch: 1.\n",
            "2598/2598 [==============================] - 437s 168ms/step - loss: 0.0659 - accuracy: 0.9769 - val_loss: 0.8756 - val_accuracy: 0.8236 - lr: 1.0000e-05\n",
            "Epoch 8: early stopping\n"
          ]
        },
        {
          "output_type": "execute_result",
          "data": {
            "text/plain": [
              "<keras.src.callbacks.History at 0x78692ada8790>"
            ]
          },
          "metadata": {},
          "execution_count": 12
        }
      ]
    },
    {
      "cell_type": "markdown",
      "source": [
        "# Model Evaluation"
      ],
      "metadata": {
        "id": "eZD0KOqU9Uel"
      }
    },
    {
      "cell_type": "code",
      "source": [
        "loss_test, acc_test = model.evaluate(test_data)\n",
        "print(acc_test)\n",
        "print(loss_test)\n"
      ],
      "metadata": {
        "colab": {
          "base_uri": "https://localhost:8080/"
        },
        "outputId": "f1d9c735-9cb1-4686-8944-837acacb5799",
        "id": "uyilyMDb9kxJ"
      },
      "execution_count": null,
      "outputs": [
        {
          "output_type": "stream",
          "name": "stdout",
          "text": [
            "818/818 [==============================] - 1052s 1s/step - loss: 0.3730 - accuracy: 0.8950\n",
            "0.3729638159275055\n",
            "0.8950183391571045\n"
          ]
        }
      ]
    },
    {
      "cell_type": "markdown",
      "metadata": {
        "id": "1pl86wbMiDKr"
      },
      "source": [
        "# **Deep learning InceptionV3**"
      ]
    },
    {
      "cell_type": "code",
      "execution_count": null,
      "metadata": {
        "id": "DOedE32Rbp8w"
      },
      "outputs": [],
      "source": [
        "bmodel = InceptionV3(include_top=False, weights='imagenet', input_tensor=Input(shape=(80,80,3)))\n",
        "hmodel = bmodel.output\n",
        "hmodel = Flatten()(hmodel)\n",
        "hmodel = Dense(64, activation='relu')(hmodel)\n",
        "hmodel = Dropout(0.5)(hmodel)\n",
        "hmodel = Dense(2, activation='softmax')(hmodel)\n",
        "\n",
        "model = Model(inputs=bmodel.input, outputs=hmodel)\n",
        "for layer in bmodel.layers:\n",
        "    layer.trainable = False"
      ]
    },
    {
      "cell_type": "code",
      "execution_count": null,
      "metadata": {
        "id": "HObZQ7SvqsJE"
      },
      "outputs": [],
      "source": [
        "from keras.callbacks import ModelCheckpoint, EarlyStopping, ReduceLROnPlateau\n"
      ]
    },
    {
      "cell_type": "code",
      "execution_count": null,
      "metadata": {
        "id": "RQLS_xNWrM3M"
      },
      "outputs": [],
      "source": [
        "checkpoint = ModelCheckpoint(r'/content/drive/MyDrive/AI Project/models/InceptionV3_model.h5',\n",
        "                             monitor='val_loss', save_best_only=True, verbose=3)\n",
        "\n",
        "earlystop = EarlyStopping(monitor='val_loss', patience=7, verbose=3, restore_best_weights=True)\n",
        "\n",
        "learning_rate = ReduceLROnPlateau(monitor='val_loss', patience=3, verbose=3)\n",
        "\n",
        "callbacks =  [checkpoint, earlystop, learning_rate]\n"
      ]
    },
    {
      "cell_type": "code",
      "execution_count": null,
      "metadata": {
        "colab": {
          "base_uri": "https://localhost:8080/"
        },
        "id": "Gufz8OzLwRRH",
        "outputId": "1e100916-118b-4da6-88ed-b7e079763c7a"
      },
      "outputs": [
        {
          "output_type": "stream",
          "name": "stderr",
          "text": [
            "<ipython-input-8-69ff36be1931>:3: UserWarning: `Model.fit_generator` is deprecated and will be removed in a future version. Please use `Model.fit`, which supports generators.\n",
            "  model.fit_generator(train_data, steps_per_epoch=train_data.samples//batchsize,\n"
          ]
        },
        {
          "output_type": "stream",
          "name": "stdout",
          "text": [
            "Epoch 1/14\n",
            "2598/2598 [==============================] - ETA: 0s - loss: 0.1313 - accuracy: 0.9546\n",
            "Epoch 1: val_loss improved from inf to 0.66956, saving model to /content/drive/MyDrive/AI Project/models/Inception_model.h5\n"
          ]
        },
        {
          "output_type": "stream",
          "name": "stderr",
          "text": [
            "/usr/local/lib/python3.10/dist-packages/keras/src/engine/training.py:3000: UserWarning: You are saving your model as an HDF5 file via `model.save()`. This file format is considered legacy. We recommend using instead the native Keras format, e.g. `model.save('my_model.keras')`.\n",
            "  saving_api.save_model(\n"
          ]
        },
        {
          "output_type": "stream",
          "name": "stdout",
          "text": [
            "\b\b\b\b\b\b\b\b\b\b\b\b\b\b\b\b\b\b\b\b\b\b\b\b\b\b\b\b\b\b\b\b\b\b\b\b\b\b\b\b\b\b\b\b\b\b\b\b\b\b\b\b\b\b\b\b\b\b\b\b\b\b\b\b\b\b\b\b\b\b\b\b\b\b\b\b\b\b\b\b\b\b\b\b\b\b\r2598/2598 [==============================] - 4659s 2s/step - loss: 0.1313 - accuracy: 0.9546 - val_loss: 0.6696 - val_accuracy: 0.8193 - lr: 0.0010\n",
            "Epoch 2/14\n",
            "2598/2598 [==============================] - ETA: 0s - loss: 0.0994 - accuracy: 0.9658\n",
            "Epoch 2: val_loss improved from 0.66956 to 0.60248, saving model to /content/drive/MyDrive/AI Project/models/Inception_model.h5\n",
            "2598/2598 [==============================] - 421s 162ms/step - loss: 0.0994 - accuracy: 0.9658 - val_loss: 0.6025 - val_accuracy: 0.8384 - lr: 0.0010\n",
            "Epoch 3/14\n",
            "2598/2598 [==============================] - ETA: 0s - loss: 0.0921 - accuracy: 0.9657\n",
            "Epoch 3: val_loss did not improve from 0.60248\n",
            "2598/2598 [==============================] - 417s 160ms/step - loss: 0.0921 - accuracy: 0.9657 - val_loss: 0.7534 - val_accuracy: 0.8382 - lr: 0.0010\n",
            "Epoch 4/14\n",
            "2598/2598 [==============================] - ETA: 0s - loss: 0.0816 - accuracy: 0.9716\n",
            "Epoch 4: val_loss did not improve from 0.60248\n",
            "2598/2598 [==============================] - 416s 160ms/step - loss: 0.0816 - accuracy: 0.9716 - val_loss: 0.8563 - val_accuracy: 0.8351 - lr: 0.0010\n",
            "Epoch 5/14\n",
            "2598/2598 [==============================] - ETA: 0s - loss: 0.0797 - accuracy: 0.9728\n",
            "Epoch 5: val_loss did not improve from 0.60248\n",
            "\n",
            "Epoch 5: ReduceLROnPlateau reducing learning rate to 0.00010000000474974513.\n",
            "2598/2598 [==============================] - 418s 161ms/step - loss: 0.0797 - accuracy: 0.9728 - val_loss: 0.6731 - val_accuracy: 0.8365 - lr: 0.0010\n",
            "Epoch 6/14\n",
            "2598/2598 [==============================] - ETA: 0s - loss: 0.0748 - accuracy: 0.9734\n",
            "Epoch 6: val_loss did not improve from 0.60248\n",
            "2598/2598 [==============================] - 417s 161ms/step - loss: 0.0748 - accuracy: 0.9734 - val_loss: 0.8769 - val_accuracy: 0.8255 - lr: 1.0000e-04\n",
            "Epoch 7/14\n",
            "2598/2598 [==============================] - ETA: 0s - loss: 0.0658 - accuracy: 0.9766\n",
            "Epoch 7: val_loss did not improve from 0.60248\n",
            "2598/2598 [==============================] - 418s 161ms/step - loss: 0.0658 - accuracy: 0.9766 - val_loss: 0.8668 - val_accuracy: 0.8299 - lr: 1.0000e-04\n",
            "Epoch 8/14\n",
            "2598/2598 [==============================] - ETA: 0s - loss: 0.0661 - accuracy: 0.9773\n",
            "Epoch 8: val_loss did not improve from 0.60248\n",
            "\n",
            "Epoch 8: ReduceLROnPlateau reducing learning rate to 1.0000000474974514e-05.\n",
            "2598/2598 [==============================] - 418s 161ms/step - loss: 0.0661 - accuracy: 0.9773 - val_loss: 0.7985 - val_accuracy: 0.8340 - lr: 1.0000e-04\n",
            "Epoch 9/14\n",
            "2598/2598 [==============================] - ETA: 0s - loss: 0.0659 - accuracy: 0.9785\n",
            "Epoch 9: val_loss did not improve from 0.60248\n",
            "Restoring model weights from the end of the best epoch: 2.\n",
            "2598/2598 [==============================] - 418s 161ms/step - loss: 0.0659 - accuracy: 0.9785 - val_loss: 0.8166 - val_accuracy: 0.8328 - lr: 1.0000e-05\n",
            "Epoch 9: early stopping\n"
          ]
        },
        {
          "output_type": "execute_result",
          "data": {
            "text/plain": [
              "<keras.src.callbacks.History at 0x78f89d8eb7f0>"
            ]
          },
          "metadata": {},
          "execution_count": 8
        }
      ],
      "source": [
        "model.compile(optimizer='Adam', loss='categorical_crossentropy', metrics=['accuracy'])\n",
        "\n",
        "model.fit(train_data, steps_per_epoch=train_data.samples//batchsize,\n",
        "                    validation_data=validation_data, validation_steps=validation_data.samples//batchsize,\n",
        "                    callbacks=callbacks, epochs=14)\n"
      ]
    },
    {
      "cell_type": "markdown",
      "source": [
        "# Model Evaluation"
      ],
      "metadata": {
        "id": "vytBoTeUjzS6"
      }
    },
    {
      "cell_type": "code",
      "source": [
        "loss_test, acc_test = model.evaluate(test_data)\n",
        "print(acc_test)\n",
        "print(loss_test)\n"
      ],
      "metadata": {
        "id": "NodzaQlwk85L",
        "colab": {
          "base_uri": "https://localhost:8080/"
        },
        "outputId": "87aad249-3d29-4914-c3f7-dea61293b6a7"
      },
      "execution_count": null,
      "outputs": [
        {
          "output_type": "stream",
          "name": "stdout",
          "text": [
            "818/818 [==============================] - 906s 1s/step - loss: 0.2061 - accuracy: 0.9273\n",
            "0.20614810287952423\n",
            "0.9272615909576416\n"
          ]
        }
      ]
    },
    {
      "cell_type": "markdown",
      "source": [
        "# **Deep learning MobileNet V2**"
      ],
      "metadata": {
        "id": "l2KHdDEK_Z2N"
      }
    },
    {
      "cell_type": "code",
      "source": [
        "bmodel = MobileNetV2(input_shape=(80,80,3), include_top=False, weights='imagenet', input_tensor=Input(shape=(80,80,3)))\n",
        "hmodel = bmodel.output\n",
        "hmodel = Flatten()(hmodel)\n",
        "hmodel = Dense(64, activation='relu')(hmodel)\n",
        "hmodel = Dropout(0.5)(hmodel)\n",
        "hmodel = Dense(2, activation='softmax')(hmodel)\n",
        "\n",
        "model2 = Model(inputs=bmodel.input, outputs=hmodel)\n",
        "for layer in bmodel.layers:\n",
        "    layer.trainable = False\n"
      ],
      "metadata": {
        "colab": {
          "base_uri": "https://localhost:8080/"
        },
        "id": "m8Rpre2m_Vni",
        "outputId": "06e6ef2f-c1e2-4611-c33f-1d244c3ef42a"
      },
      "execution_count": null,
      "outputs": [
        {
          "output_type": "stream",
          "name": "stderr",
          "text": [
            "WARNING:tensorflow:`input_shape` is undefined or non-square, or `rows` is not in [96, 128, 160, 192, 224]. Weights for input shape (224, 224) will be loaded as the default.\n"
          ]
        },
        {
          "output_type": "stream",
          "name": "stdout",
          "text": [
            "Downloading data from https://storage.googleapis.com/tensorflow/keras-applications/mobilenet_v2/mobilenet_v2_weights_tf_dim_ordering_tf_kernels_1.0_224_no_top.h5\n",
            "9406464/9406464 [==============================] - 0s 0us/step\n"
          ]
        }
      ]
    },
    {
      "cell_type": "code",
      "source": [
        "from keras.callbacks import ModelCheckpoint, EarlyStopping, ReduceLROnPlateau\n",
        "\n",
        "checkpoint = ModelCheckpoint(r'/content/drive/MyDrive/AI Project/models/MobileNetV2_model.h5',\n",
        "                             monitor='val_loss', save_best_only=True, verbose=3)\n",
        "\n",
        "earlystop = EarlyStopping(monitor='val_loss', patience=7, verbose=3, restore_best_weights=True)\n",
        "\n",
        "learning_rate = ReduceLROnPlateau(monitor='val_loss', patience=3, verbose=3)\n",
        "\n",
        "callbacks =  [checkpoint, earlystop, learning_rate]\n"
      ],
      "metadata": {
        "id": "RscWz2caEpBV"
      },
      "execution_count": null,
      "outputs": []
    },
    {
      "cell_type": "code",
      "source": [
        "model2.compile(optimizer='Adam', loss='categorical_crossentropy', metrics=['accuracy'])\n",
        "\n",
        "model2.fit(train_data, steps_per_epoch=train_data.samples//batchsize,\n",
        "                    validation_data=validation_data, validation_steps=validation_data.samples//batchsize,\n",
        "                    callbacks=callbacks, epochs=14)"
      ],
      "metadata": {
        "colab": {
          "base_uri": "https://localhost:8080/"
        },
        "id": "QJts_weMfVQR",
        "outputId": "e5b086d3-45a2-4cad-92e2-537d44170e0d"
      },
      "execution_count": null,
      "outputs": [
        {
          "output_type": "stream",
          "name": "stdout",
          "text": [
            "Epoch 1/14\n",
            "2598/2598 [==============================] - ETA: 0s - loss: 0.2960 - accuracy: 0.8923\n",
            "Epoch 1: val_loss improved from inf to 0.81828, saving model to /content/drive/MyDrive/AI Project/models/MobileNetV2_model.h5\n"
          ]
        },
        {
          "output_type": "stream",
          "name": "stderr",
          "text": [
            "/usr/local/lib/python3.10/dist-packages/keras/src/engine/training.py:3000: UserWarning: You are saving your model as an HDF5 file via `model.save()`. This file format is considered legacy. We recommend using instead the native Keras format, e.g. `model.save('my_model.keras')`.\n",
            "  saving_api.save_model(\n"
          ]
        },
        {
          "output_type": "stream",
          "name": "stdout",
          "text": [
            "\b\b\b\b\b\b\b\b\b\b\b\b\b\b\b\b\b\b\b\b\b\b\b\b\b\b\b\b\b\b\b\b\b\b\b\b\b\b\b\b\b\b\b\b\b\b\b\b\b\b\b\b\b\b\b\b\b\b\b\b\b\b\b\b\b\b\b\b\b\b\b\b\b\b\b\b\b\b\b\b\b\b\b\b\b\b\r2598/2598 [==============================] - 7769s 3s/step - loss: 0.2960 - accuracy: 0.8923 - val_loss: 0.8183 - val_accuracy: 0.7741 - lr: 0.0010\n",
            "Epoch 2/14\n",
            "2598/2598 [==============================] - ETA: 0s - loss: 0.1857 - accuracy: 0.9224\n",
            "Epoch 2: val_loss did not improve from 0.81828\n",
            "2598/2598 [==============================] - 263s 101ms/step - loss: 0.1857 - accuracy: 0.9224 - val_loss: 1.2335 - val_accuracy: 0.7535 - lr: 0.0010\n",
            "Epoch 3/14\n",
            "2597/2598 [============================>.] - ETA: 0s - loss: 0.1658 - accuracy: 0.9299\n",
            "Epoch 3: val_loss did not improve from 0.81828\n",
            "2598/2598 [==============================] - 257s 99ms/step - loss: 0.1658 - accuracy: 0.9298 - val_loss: 0.9812 - val_accuracy: 0.7943 - lr: 0.0010\n",
            "Epoch 4/14\n",
            "2598/2598 [==============================] - ETA: 0s - loss: 0.1546 - accuracy: 0.9339\n",
            "Epoch 4: val_loss did not improve from 0.81828\n",
            "\n",
            "Epoch 4: ReduceLROnPlateau reducing learning rate to 0.00010000000474974513.\n",
            "2598/2598 [==============================] - 264s 102ms/step - loss: 0.1546 - accuracy: 0.9339 - val_loss: 1.3690 - val_accuracy: 0.7460 - lr: 0.0010\n",
            "Epoch 5/14\n",
            "2597/2598 [============================>.] - ETA: 0s - loss: 0.1155 - accuracy: 0.9472\n",
            "Epoch 5: val_loss did not improve from 0.81828\n",
            "2598/2598 [==============================] - 299s 115ms/step - loss: 0.1155 - accuracy: 0.9473 - val_loss: 1.3039 - val_accuracy: 0.7829 - lr: 1.0000e-04\n",
            "Epoch 6/14\n",
            "2597/2598 [============================>.] - ETA: 0s - loss: 0.1027 - accuracy: 0.9525\n",
            "Epoch 6: val_loss did not improve from 0.81828\n",
            "2598/2598 [==============================] - 301s 116ms/step - loss: 0.1027 - accuracy: 0.9525 - val_loss: 1.3293 - val_accuracy: 0.7858 - lr: 1.0000e-04\n",
            "Epoch 7/14\n",
            "2598/2598 [==============================] - ETA: 0s - loss: 0.0927 - accuracy: 0.9586\n",
            "Epoch 7: val_loss did not improve from 0.81828\n",
            "\n",
            "Epoch 7: ReduceLROnPlateau reducing learning rate to 1.0000000474974514e-05.\n",
            "2598/2598 [==============================] - 300s 115ms/step - loss: 0.0927 - accuracy: 0.9586 - val_loss: 1.4012 - val_accuracy: 0.7904 - lr: 1.0000e-04\n",
            "Epoch 8/14\n",
            "2598/2598 [==============================] - ETA: 0s - loss: 0.0929 - accuracy: 0.9590\n",
            "Epoch 8: val_loss did not improve from 0.81828\n",
            "Restoring model weights from the end of the best epoch: 1.\n",
            "2598/2598 [==============================] - 301s 116ms/step - loss: 0.0929 - accuracy: 0.9590 - val_loss: 1.4631 - val_accuracy: 0.7808 - lr: 1.0000e-05\n",
            "Epoch 8: early stopping\n"
          ]
        },
        {
          "output_type": "execute_result",
          "data": {
            "text/plain": [
              "<keras.src.callbacks.History at 0x7a5058914a90>"
            ]
          },
          "metadata": {},
          "execution_count": 8
        }
      ]
    },
    {
      "cell_type": "markdown",
      "source": [
        "Model"
      ],
      "metadata": {
        "id": "tKUDU8Tfr5NK"
      }
    },
    {
      "cell_type": "code",
      "source": [
        "loss_test, acc_test = model2.evaluate(test_data)\n",
        "print(acc_test)\n",
        "print(loss_test)\n"
      ],
      "metadata": {
        "colab": {
          "base_uri": "https://localhost:8080/"
        },
        "id": "p2rcBABSrF2F",
        "outputId": "263e1a87-a85b-40fd-ed15-b80354d81c99"
      },
      "execution_count": null,
      "outputs": [
        {
          "output_type": "stream",
          "name": "stdout",
          "text": [
            "818/818 [==============================] - 1893s 2s/step - loss: 0.6804 - accuracy: 0.8013\n",
            "0.6803821921348572\n",
            "0.8013447523117065\n"
          ]
        }
      ]
    },
    {
      "cell_type": "markdown",
      "source": [
        "# **Deep learning Xception**"
      ],
      "metadata": {
        "id": "uI2z_9dPWLCL"
      }
    },
    {
      "cell_type": "code",
      "source": [
        "bmodel = Xception(include_top=False, weights='imagenet', input_tensor=Input(shape=(80,80,3)))\n",
        "hmodel = bmodel.output\n",
        "hmodel = Flatten()(hmodel)\n",
        "hmodel = Dense(64, activation='relu')(hmodel)\n",
        "hmodel = Dropout(0.5)(hmodel)\n",
        "hmodel = Dense(2, activation='softmax')(hmodel)\n",
        "\n",
        "model3 = Model(inputs=bmodel.input, outputs=hmodel)\n",
        "for layer in bmodel.layers:\n",
        "    layer.trainable = False\n"
      ],
      "metadata": {
        "id": "YUYQk40zWSxr"
      },
      "execution_count": null,
      "outputs": []
    },
    {
      "cell_type": "code",
      "source": [
        "from keras.callbacks import ModelCheckpoint, EarlyStopping, ReduceLROnPlateau\n",
        "\n",
        "checkpoint = ModelCheckpoint(r'/content/drive/MyDrive/AI Project/models/Xception_model.h5',\n",
        "                             monitor='val_loss', save_best_only=True, verbose=3)\n",
        "\n",
        "earlystop = EarlyStopping(monitor='val_loss', patience=7, verbose=3, restore_best_weights=True)\n",
        "\n",
        "learning_rate = ReduceLROnPlateau(monitor='val_loss', patience=3, verbose=3)\n",
        "\n",
        "callbacks =  [checkpoint, earlystop, learning_rate]\n"
      ],
      "metadata": {
        "id": "VgYJ4Etbev6h"
      },
      "execution_count": null,
      "outputs": []
    },
    {
      "cell_type": "code",
      "source": [
        "model3.compile(optimizer='Adam', loss='categorical_crossentropy', metrics=['accuracy'])\n",
        "\n",
        "model3.fit(train_data, steps_per_epoch=train_data.samples//batchsize,\n",
        "                    validation_data=validation_data, validation_steps=validation_data.samples//batchsize,\n",
        "                    callbacks=callbacks, epochs=14)"
      ],
      "metadata": {
        "id": "np1k1Q5Jfnp9",
        "colab": {
          "base_uri": "https://localhost:8080/"
        },
        "outputId": "77654668-7373-4f70-d718-397f2d96b5a6"
      },
      "execution_count": null,
      "outputs": [
        {
          "output_type": "stream",
          "name": "stdout",
          "text": [
            "Epoch 1/14\n",
            "2598/2598 [==============================] - ETA: 0s - loss: 0.1688 - accuracy: 0.9465\n",
            "Epoch 1: val_loss improved from inf to 0.99619, saving model to /content/drive/MyDrive/AI Project/models/Xception_model.h5\n",
            "2598/2598 [==============================] - 939s 356ms/step - loss: 0.1688 - accuracy: 0.9465 - val_loss: 0.9962 - val_accuracy: 0.7854 - lr: 0.0010\n",
            "Epoch 2/14\n",
            "2598/2598 [==============================] - ETA: 0s - loss: 0.1196 - accuracy: 0.9617\n",
            "Epoch 2: val_loss did not improve from 0.99619\n",
            "2598/2598 [==============================] - 953s 367ms/step - loss: 0.1196 - accuracy: 0.9617 - val_loss: 1.0735 - val_accuracy: 0.8155 - lr: 0.0010\n",
            "Epoch 3/14\n",
            "2598/2598 [==============================] - ETA: 0s - loss: 0.1038 - accuracy: 0.9673\n",
            "Epoch 3: val_loss did not improve from 0.99619\n",
            "2598/2598 [==============================] - 949s 365ms/step - loss: 0.1038 - accuracy: 0.9673 - val_loss: 1.1994 - val_accuracy: 0.8032 - lr: 0.0010\n",
            "Epoch 4/14\n",
            "2598/2598 [==============================] - ETA: 0s - loss: 0.0940 - accuracy: 0.9698\n",
            "Epoch 4: val_loss did not improve from 0.99619\n",
            "\n",
            "Epoch 4: ReduceLROnPlateau reducing learning rate to 0.00010000000474974513.\n",
            "2598/2598 [==============================] - 926s 356ms/step - loss: 0.0940 - accuracy: 0.9698 - val_loss: 1.2505 - val_accuracy: 0.7866 - lr: 0.0010\n",
            "Epoch 5/14\n",
            "2598/2598 [==============================] - ETA: 0s - loss: 0.0719 - accuracy: 0.9746\n",
            "Epoch 5: val_loss did not improve from 0.99619\n",
            "2598/2598 [==============================] - 934s 360ms/step - loss: 0.0719 - accuracy: 0.9746 - val_loss: 1.2469 - val_accuracy: 0.8060 - lr: 1.0000e-04\n",
            "Epoch 6/14\n",
            "2598/2598 [==============================] - ETA: 0s - loss: 0.0655 - accuracy: 0.9761\n",
            "Epoch 6: val_loss did not improve from 0.99619\n",
            "2598/2598 [==============================] - 950s 366ms/step - loss: 0.0655 - accuracy: 0.9761 - val_loss: 1.3320 - val_accuracy: 0.7983 - lr: 1.0000e-04\n",
            "Epoch 7/14\n",
            "2598/2598 [==============================] - ETA: 0s - loss: 0.0616 - accuracy: 0.9779\n",
            "Epoch 7: val_loss did not improve from 0.99619\n",
            "\n",
            "Epoch 7: ReduceLROnPlateau reducing learning rate to 1.0000000474974514e-05.\n",
            "2598/2598 [==============================] - 938s 361ms/step - loss: 0.0616 - accuracy: 0.9779 - val_loss: 1.2299 - val_accuracy: 0.8103 - lr: 1.0000e-04\n",
            "Epoch 8/14\n",
            "2598/2598 [==============================] - ETA: 0s - loss: 0.0614 - accuracy: 0.9779\n",
            "Epoch 8: val_loss did not improve from 0.99619\n",
            "Restoring model weights from the end of the best epoch: 1.\n",
            "2598/2598 [==============================] - 939s 362ms/step - loss: 0.0614 - accuracy: 0.9779 - val_loss: 1.2332 - val_accuracy: 0.8097 - lr: 1.0000e-05\n",
            "Epoch 8: early stopping\n"
          ]
        },
        {
          "output_type": "execute_result",
          "data": {
            "text/plain": [
              "<keras.src.callbacks.History at 0x79f09d43b370>"
            ]
          },
          "metadata": {},
          "execution_count": 34
        }
      ]
    },
    {
      "cell_type": "code",
      "source": [
        "loss_test, acc_test = model3.evaluate(test_data)\n",
        "print(acc_test)\n",
        "print(loss_test)\n"
      ],
      "metadata": {
        "colab": {
          "base_uri": "https://localhost:8080/"
        },
        "id": "xV0oSN-OrNM9",
        "outputId": "a55090bb-30af-4d7e-d6bb-a3e6c5e140aa"
      },
      "execution_count": null,
      "outputs": [
        {
          "output_type": "stream",
          "name": "stdout",
          "text": [
            "818/818 [==============================] - 214s 262ms/step - loss: 0.3682 - accuracy: 0.8927\n",
            "0.3682295083999634\n",
            "0.8927261829376221\n"
          ]
        }
      ]
    }
  ],
  "metadata": {
    "colab": {
      "provenance": []
    },
    "kernelspec": {
      "display_name": "Python 3",
      "name": "python3"
    },
    "language_info": {
      "name": "python"
    }
  },
  "nbformat": 4,
  "nbformat_minor": 0
}